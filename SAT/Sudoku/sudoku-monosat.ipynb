{
 "cells": [
  {
   "cell_type": "markdown",
   "metadata": {
    "ein.tags": [
     "worksheet-0"
    ],
    "slideshow": {
     "slide_type": "-"
    }
   },
   "source": [
    "# Quelques éléments de syntaxe de Python\n",
    "\n",
    "[Python](http://www.python.org \"Lien vers le site de Python\") est un langage de programmation dynamique très utilisé actuellement que ce soit pour écrire des scripts rapidement, pour faire du calcul scientifique ou du machine learning. La popularité de Python vient en particulier de la facilité avec laquelle on peut écrire un programme et du grand nombre de bibliothèques qui sont disponibles pour ce langage.\n",
    "\n",
    "Nous allons ici utiliser Jupyter pour travailler directement dans ce notebook. Vous n'aurez donc pas à utiliser d'éditeur extérieur ou de lancer l'interpréteur Python directement. Toutes les cellules de code sont évaluables et le résultat de l'évaluation apparaît à la suite de la cellule concerné"
   ]
  },
  {
   "cell_type": "markdown",
   "metadata": {
    "ein.tags": [
     "worksheet-0"
    ],
    "slideshow": {
     "slide_type": "-"
    }
   },
   "source": [
    "Python est un langage typé dynamiquement, on n'est donc pas obligé de déclarer le type des variables. Évaluez la cellule suivante."
   ]
  },
  {
   "cell_type": "code",
   "execution_count": 1,
   "metadata": {
    "autoscroll": "json-false",
    "collapsed": false,
    "ein.tags": [
     "worksheet-0"
    ],
    "slideshow": {
     "slide_type": "-"
    }
   },
   "outputs": [
    {
     "name": "stdout",
     "output_type": "stream",
     "text": [
      "a * b : 12.0\n"
     ]
    }
   ],
   "source": [
    "a = 3\n",
    "b = 4.0\n",
    "c = \"a * b : \"\n",
    "\n",
    "print(c + str(a * b))"
   ]
  },
  {
   "cell_type": "markdown",
   "metadata": {
    "ein.tags": [
     "worksheet-0"
    ],
    "slideshow": {
     "slide_type": "-"
    }
   },
   "source": [
    "La boucle `for` permet de parcourir des objets itérables comme des listes, des tuples etc. La fonction `range` permet de générer une séquence d'entiers. Vous remarquerez dans la cellule suivante que **l'indentation est très importante en Python**. Elle permet de définir les blocs."
   ]
  },
  {
   "cell_type": "code",
   "execution_count": 2,
   "metadata": {
    "autoscroll": "json-false",
    "collapsed": false,
    "ein.tags": [
     "worksheet-0"
    ],
    "slideshow": {
     "slide_type": "-"
    }
   },
   "outputs": [
    {
     "name": "stdout",
     "output_type": "stream",
     "text": [
      "0\n",
      "1\n",
      "2\n",
      "3\n",
      "4\n",
      "5\n",
      "6\n",
      "7\n",
      "8\n",
      "9\n",
      "5\n",
      "6\n",
      "7\n",
      "8\n",
      "9\n",
      "10\n",
      "11\n",
      "12\n",
      "13\n",
      "14\n"
     ]
    }
   ],
   "source": [
    "for x in range(10):\n",
    "    print(x)\n",
    "\n",
    "for x in range(5, 15):\n",
    "    print(x)"
   ]
  },
  {
   "cell_type": "markdown",
   "metadata": {
    "ein.tags": [
     "worksheet-0"
    ],
    "slideshow": {
     "slide_type": "-"
    }
   },
   "source": [
    "La conditionnelle est définie classiquement :"
   ]
  },
  {
   "cell_type": "code",
   "execution_count": 3,
   "metadata": {
    "autoscroll": "json-false",
    "collapsed": false,
    "ein.tags": [
     "worksheet-0"
    ],
    "slideshow": {
     "slide_type": "-"
    }
   },
   "outputs": [
    {
     "name": "stdout",
     "output_type": "stream",
     "text": [
      "a = 3\n"
     ]
    }
   ],
   "source": [
    "if a == 3:\n",
    "    print(\"a = 3\")\n",
    "else:\n",
    "    print(\"a = something else...\")"
   ]
  },
  {
   "cell_type": "markdown",
   "metadata": {
    "ein.tags": [
     "worksheet-0"
    ],
    "slideshow": {
     "slide_type": "-"
    }
   },
   "source": [
    "Python dispose également de listes dynamiques que l'on peut manipuler facilement. Les matrices peuvent être représentées par des listes de listes."
   ]
  },
  {
   "cell_type": "code",
   "execution_count": 4,
   "metadata": {
    "autoscroll": "json-false",
    "collapsed": false,
    "ein.tags": [
     "worksheet-0"
    ],
    "slideshow": {
     "slide_type": "-"
    }
   },
   "outputs": [
    {
     "name": "stdout",
     "output_type": "stream",
     "text": [
      "[2, 3, -1]\n",
      "2\n",
      "3\n",
      "-1\n"
     ]
    }
   ],
   "source": [
    "l = [0, 2, 3]\n",
    "l.append(-1)\n",
    "l.remove(0)\n",
    "\n",
    "print(l)\n",
    "\n",
    "for x in l:\n",
    "    print(x)"
   ]
  },
  {
   "cell_type": "markdown",
   "metadata": {
    "ein.tags": [
     "worksheet-0"
    ],
    "slideshow": {
     "slide_type": "-"
    }
   },
   "source": [
    "Les listes peuvent être créées par des [compréhensions](https://docs.python.org/3/tutorial/datastructures.html?highlight=comprehension#list-comprehensions \"Lien vers la documentation Python sur les compréhensions\"), comme dans l'exemple suivant qui crée la liste des carrés des 11 premiers nombres entiers:"
   ]
  },
  {
   "cell_type": "code",
   "execution_count": 5,
   "metadata": {
    "autoscroll": "json-false",
    "collapsed": false,
    "ein.tags": [
     "worksheet-0"
    ],
    "slideshow": {
     "slide_type": "-"
    }
   },
   "outputs": [
    {
     "name": "stdout",
     "output_type": "stream",
     "text": [
      "[0, 1, 4, 9, 16, 25, 36, 49, 64, 81, 100]\n"
     ]
    }
   ],
   "source": [
    "my_list = [x**2 for x in range(0,11)]\n",
    "print(my_list)"
   ]
  },
  {
   "cell_type": "markdown",
   "metadata": {
    "ein.tags": [
     "worksheet-0"
    ],
    "slideshow": {
     "slide_type": "-"
    }
   },
   "source": [
    "Afin de faciliter votre travail, nous vous conseillons d'utiliser des dictionnaires en Python. Les dictionnaires sont des structures associant des *clés* à des *valeurs*. On peut les voir comme des « généralisations » des tableaux autorisant des index qui ne sont pas des entiers. Par exemple, on pourra choisir pour clé des chaînes de caractères, des tuples etc.\n",
    "\n",
    "Le programme Python suivant déclare un dictionnaire, et stocke des flottants dedans en utilisant pour clé des couples chaîne de caractères/entier."
   ]
  },
  {
   "cell_type": "code",
   "execution_count": 6,
   "metadata": {
    "autoscroll": "json-false",
    "collapsed": false,
    "ein.tags": [
     "worksheet-0"
    ],
    "slideshow": {
     "slide_type": "-"
    }
   },
   "outputs": [
    {
     "name": "stdout",
     "output_type": "stream",
     "text": [
      "Le nombre associe a (garion, 31400) est 36.5\n",
      "{('delmas', 31500): 41.2, ('garion', 31400): 36.5}\n"
     ]
    }
   ],
   "source": [
    "my_dict = dict()\n",
    "\n",
    "my_dict[\"garion\", 31400] = 36.5\n",
    "my_dict[\"delmas\", 31500] = 41.2\n",
    "\n",
    "# recuperation d'une valeur\n",
    "print(\"Le nombre associe a (garion, 31400) est {0}\".format(my_dict[\"garion\", 31400]))\n",
    "print(my_dict)"
   ]
  },
  {
   "cell_type": "markdown",
   "metadata": {
    "ein.tags": [
     "worksheet-0"
    ],
    "slideshow": {
     "slide_type": "-"
    }
   },
   "source": [
    "Comme pour les listes, on peut utiliser des compréhensions pour les dictionnaires. L'exemple suivant crée un dictionnaire dont les clés sont des tuples `(i, j)` avec `i` et `j` compris entre $0$ et $2$ et les valeurs sont les chaînes de caractères `\"ij\"` correspondant au tuple. "
   ]
  },
  {
   "cell_type": "code",
   "execution_count": 7,
   "metadata": {
    "autoscroll": "json-false",
    "collapsed": false,
    "ein.tags": [
     "worksheet-0"
    ],
    "slideshow": {
     "slide_type": "-"
    }
   },
   "outputs": [
    {
     "name": "stdout",
     "output_type": "stream",
     "text": [
      "{(0, 1): '01', (1, 2): '12', (0, 0): '00', (2, 0): '20', (1, 0): '10', (2, 2): '22', (0, 2): '02', (2, 1): '21', (1, 1): '11'}\n"
     ]
    }
   ],
   "source": [
    "my_dict = {(i, j): str(i) + str(j) for i in range(0, 3) for j in range(0, 3)}\n",
    "print(my_dict)"
   ]
  },
  {
   "cell_type": "markdown",
   "metadata": {
    "ein.tags": "worksheet-0",
    "slideshow": {
     "slide_type": "-"
    }
   },
   "source": [
    "# Le solver SMT MonoSAT\n",
    "\n",
    "[MonoSAT](https://github.com/sambayless/monosat \"Lien vers la page de MonoSAT sur Github\") est un démonstrateur de théorèmes développé par Sam Bayless. Il propose une interface Python assez simple permettant de définir des formules propositionnelles (pas forcément en CNF) et de vérifier leur satisfaisabilité. Par exemple, essayons de vérifier si $\\{ a\\to b, \\lnot b \\vee \\lnot c, a\\}$ est satisfaisable grâce au programme Python suivant (dans le programme, on vérifie également que lorsque l'on ajoute $c$ à l'ensemble de formules, il devient insatisfaisable)."
   ]
  },
  {
   "cell_type": "code",
   "execution_count": 8,
   "metadata": {
    "autoscroll": false,
    "collapsed": false,
    "ein.tags": "worksheet-0",
    "slideshow": {
     "slide_type": "-"
    }
   },
   "outputs": [],
   "source": [
    "from monosat import *\n"
   ]
  },
  {
   "cell_type": "markdown",
   "metadata": {
    "ein.tags": "worksheet-0",
    "slideshow": {
     "slide_type": "-"
    }
   },
   "source": [
    "On remarquera que l'on peut introduire directement des clauses avec `AssertClause` : `AssertClause([Not(b), Not(c)])` par exemple. Vous trouverez dans le fichier [`logic.py`](https://github.com/sambayless/monosat/blob/master/src/monosat/api/python/monosat/logic.py \"Lien vers le code source de logic.py sur Github\") d'autres versions de `Assert`."
   ]
  },
  {
   "cell_type": "markdown",
   "metadata": {
    "ein.tags": "worksheet-0",
    "slideshow": {
     "slide_type": "-"
    }
   },
   "source": [
    "# Résoudre un Sudoku!\n",
    "\n",
    "Pour ce miniprojet, we devez résoudre une grille de Sudoku en utilisant SAT et le solver MonoSAT. Vous ne devez pas utiliser la partie \"SMT\" de MonoSAT et ne devez manipuler que des variables *booléennes*.\n",
    "\n",
    "Une grille de Sudoku est une grille $9\\times 9$ telle que chaque cellule contient un nombre compris entre $1$ et $9$. Les cellules sont indexées par $(row, col)$ où\n",
    "\n",
    "* $row$ est le numéro de la ligne de la cellule (compris entre $0$ et $8$)\n",
    "* $col$ est le numéro de la colonne de la cellule (compris entre $0$ et $8$)\n",
    "* la cellule supérieure gauche de la grille a pour coordonnées $(0, 0)$\n",
    "* la cellule inférieure droite de la grille a pour coordonnées $(8, 8)$\n",
    "\n",
    "Il existe 9 sous-grilles $3\\times 3$ identifiées par les coordonnées de leur cellule gauche supérieure. Par exemple, la sous-grille $G_{3, 6}$ comprend les cellules $(3, 6)$, $(3, 7)$, $(3, 8)$, $(4, 6)$, $(4, 7)$, $(4, 8)$, $(5, 6)$, $(5, 7)$ et $(5, 8)$.\n",
    "\n",
    "Les contraintes suivantes doivent être respectées par la grille:\n",
    "\n",
    "* chaque ligne doit contenir chaque valeur de $1$ à $9$ exactement une fois\n",
    "* chaque colonne doit contenir chaque valeur de $1$ à $9$ exactement une fois\n",
    "* chaque valeur de $1$ à $9$ doit apparaître exactement une seule fois dans chaque sous-grille"
   ]
  },
  {
   "cell_type": "markdown",
   "metadata": {
    "ein.tags": "worksheet-0",
    "slideshow": {
     "slide_type": "-"
    }
   },
   "source": [
    "## Modélisation du problème\n",
    "\n",
    "### Choix des variables de décision\n",
    "\n",
    "Dans un premier temps, définir les variables de décision nécessaires pour représenter le problème. Stocker ces variables dans une structure `Vars` appropriée et initialisez-la (on utilisera une fonction pour initialiser `Vars` afin de pouvoir l'appeler plus tard lorsque l'on veut utiliser une nouvelle grille)."
   ]
  },
  {
   "cell_type": "code",
   "execution_count": 9,
   "metadata": {
    "autoscroll": false,
    "collapsed": false,
    "ein.tags": "worksheet-0",
    "slideshow": {
     "slide_type": "-"
    }
   },
   "outputs": [],
   "source": [
    "# TODO: définir et initialiser Vars\n",
    "N = 9\n",
    "Vars = {}\n",
    "    \n",
    "def init_vars():\n",
    "    global Vars\n",
    "    Vars = {(i,j,k):Var() for i in range(0,N) for j in range(0,N) for k in range(0,N)}"
   ]
  },
  {
   "cell_type": "markdown",
   "metadata": {
    "ein.tags": "worksheet-0",
    "slideshow": {
     "slide_type": "-"
    }
   },
   "source": [
    "### Contraintes\n",
    "\n",
    "Définir ensuite les contraintes devant être respectées par la grille. On définira les contraintes via une fonction `init_constraints`"
   ]
  },
  {
   "cell_type": "code",
   "execution_count": 10,
   "metadata": {
    "autoscroll": false,
    "collapsed": false,
    "ein.tags": "worksheet-0",
    "slideshow": {
     "slide_type": "-"
    }
   },
   "outputs": [],
   "source": [
    "# TODO: définir les contraintes\n",
    "def init_constraints():\n",
    "    for i in range(0,N):\n",
    "        for j in range(0,N):\n",
    "            # AU MOINS une valeur par cellule\n",
    "            AssertClause([Vars[i,j,k] for k in range(0,N)])\n",
    "            # AU PLUS une valeur par cellule\n",
    "            for k1 in range(0,N):\n",
    "                Assert(Implies(Vars[i,j,k1], And([Not(Vars[i,j,k2]) for k2 in range(0,N) if k1!=k2])))\n",
    "                Assert(Implies(Vars[i,j,k1], And([Not(Vars[i2,j,k1]) for i2 in range(0,N) if i!=i2])))\n",
    "                Assert(Implies(Vars[i,j,k1], And([Not(Vars[i,j2,k1]) for j2 in range(0,N) if j!=j2])))\n",
    "              \n",
    "    # AU PLUS une valeur dans une sous-grille \n",
    "    for i1 in range(0,3):\n",
    "        for j1 in range(0,3):\n",
    "            for i2 in range(0,3):\n",
    "                for j2 in range(0,3):\n",
    "                    for k1 in range(0,N):\n",
    "                        Assert(Implies(Vars[i1*3+i2,j1*3+j2,k1], And([Not(Vars[i1*3+i3,j1*3+j3,k1]) for i3 in range(0,3) for j3 in range(0,3) if (i2!=i3 and j2!=j3)])))\n",
    "                "
   ]
  },
  {
   "cell_type": "markdown",
   "metadata": {
    "ein.tags": "worksheet-0",
    "slideshow": {
     "slide_type": "-"
    }
   },
   "source": [
    "### Vérification d'une solution\n",
    "\n",
    "Nous vous proposons de vérifier votre solution sur la grille Sudoku du journal Le Monde daté du 18 novembre 2016 (grille élaborée par Yan Georget):\n",
    "\n",
    "<img src=\"./le-monde.png\">\n",
    "\n",
    "Pour cela, compléter la fonction `read_sudoku` permettant de lire un fichier CSV contenant la grille et retournant une liste de variables représentant le problème initial.\n",
    "\n",
    "N'oubliez pas d'appeler les fonctions permettant de créer les variables et les contraintes.\n",
    "\n",
    "Vous pouvez utiliser le module `sudoku_pp` pour afficher la grille du Sudoku en utilisant la fonction `tk_pp` prenant en paramètre un dictionnaire contenant les valeurs de la grille."
   ]
  },
  {
   "cell_type": "code",
   "execution_count": 11,
   "metadata": {
    "autoscroll": false,
    "collapsed": false,
    "ein.tags": "worksheet-0",
    "slideshow": {
     "slide_type": "-"
    }
   },
   "outputs": [],
   "source": [
    "# TODO: créer les variables et les contraintes\n",
    "init_vars()\n",
    "init_constraints()"
   ]
  },
  {
   "cell_type": "code",
   "execution_count": 12,
   "metadata": {
    "autoscroll": false,
    "collapsed": false,
    "ein.tags": "worksheet-0",
    "slideshow": {
     "slide_type": "-"
    }
   },
   "outputs": [],
   "source": [
    "# TODO: compléter la fonction permettant de lire le fichier CSV\n",
    "def read_sudoku(filename):\n",
    "    init_const = []\n",
    "    with open(filename, 'r') as file:\n",
    "        row = 0\n",
    "        for data_row in file:\n",
    "            data = data_row.strip('\\n').split(',')\n",
    "            for col, value in enumerate(data):\n",
    "                if value:\n",
    "                    # value contient bien une valeur\n",
    "                    pass\n",
    "            row = row + 1\n",
    "    return init_const"
   ]
  },
  {
   "cell_type": "code",
   "execution_count": 13,
   "metadata": {
    "autoscroll": false,
    "collapsed": false,
    "ein.tags": "worksheet-0",
    "slideshow": {
     "slide_type": "-"
    }
   },
   "outputs": [
    {
     "name": "stdout",
     "output_type": "stream",
     "text": [
      "Solving in Monosat...\n",
      "SAT!\n",
      "(0,0): 0\n",
      "(0,1): 5\n",
      "(0,2): 8\n",
      "(0,3): 3\n",
      "(0,4): 4\n",
      "(0,5): 2\n",
      "(0,6): 7\n",
      "(0,7): 6\n",
      "(0,8): 1\n",
      "(1,0): 1\n",
      "(1,1): 6\n",
      "(1,2): 4\n",
      "(1,3): 7\n",
      "(1,4): 8\n",
      "(1,5): 0\n",
      "(1,6): 2\n",
      "(1,7): 5\n",
      "(1,8): 3\n",
      "(2,0): 7\n",
      "(2,1): 3\n",
      "(2,2): 2\n",
      "(2,3): 6\n",
      "(2,4): 5\n",
      "(2,5): 1\n",
      "(2,6): 4\n",
      "(2,7): 8\n",
      "(2,8): 0\n",
      "(3,0): 3\n",
      "(3,1): 8\n",
      "(3,2): 6\n",
      "(3,3): 2\n",
      "(3,4): 1\n",
      "(3,5): 5\n",
      "(3,6): 0\n",
      "(3,7): 7\n",
      "(3,8): 4\n",
      "(4,0): 4\n",
      "(4,1): 1\n",
      "(4,2): 0\n",
      "(4,3): 8\n",
      "(4,4): 3\n",
      "(4,5): 7\n",
      "(4,6): 6\n",
      "(4,7): 2\n",
      "(4,8): 5\n",
      "(5,0): 5\n",
      "(5,1): 2\n",
      "(5,2): 7\n",
      "(5,3): 0\n",
      "(5,4): 6\n",
      "(5,5): 4\n",
      "(5,6): 1\n",
      "(5,7): 3\n",
      "(5,8): 8\n",
      "(6,0): 8\n",
      "(6,1): 7\n",
      "(6,2): 5\n",
      "(6,3): 1\n",
      "(6,4): 0\n",
      "(6,5): 6\n",
      "(6,6): 3\n",
      "(6,7): 4\n",
      "(6,8): 2\n",
      "(7,0): 6\n",
      "(7,1): 0\n",
      "(7,2): 3\n",
      "(7,3): 4\n",
      "(7,4): 2\n",
      "(7,5): 8\n",
      "(7,6): 5\n",
      "(7,7): 1\n",
      "(7,8): 7\n",
      "(8,0): 2\n",
      "(8,1): 4\n",
      "(8,2): 1\n",
      "(8,3): 5\n",
      "(8,4): 7\n",
      "(8,5): 3\n",
      "(8,6): 8\n",
      "(8,7): 0\n",
      "(8,8): 6\n"
     ]
    }
   ],
   "source": [
    "# TODO: résoudre le Sudoku\n",
    "result = Solve()\n",
    "\n",
    "if result:\n",
    "    print(\"SAT!\")\n",
    "    for i in range(0,N):\n",
    "        for j in range(0,N):\n",
    "            for k in range(0,N):\n",
    "                if Vars[i,j,k].value():\n",
    "                    print(\"({},{}): {}\".format(i,j,k))\n",
    "else:\n",
    "    print(\"UNSAT!\")"
   ]
  },
  {
   "cell_type": "code",
   "execution_count": 14,
   "metadata": {
    "autoscroll": false,
    "collapsed": false,
    "ein.tags": "worksheet-0",
    "slideshow": {
     "slide_type": "-"
    }
   },
   "outputs": [
    {
     "name": "stdout",
     "output_type": "stream",
     "text": [
      "SAT!\n"
     ]
    }
   ],
   "source": [
    "from sudoku_pp import tk_pp\n",
    "\n",
    "# TODO: afficher la grille résultat\n",
    "if result:\n",
    "    print(\"SAT!\")\n",
    "    d = {}\n",
    "    for i in range(0,N):\n",
    "        for j in range(0,N):\n",
    "            for k in range(0,N):\n",
    "                if Vars[i,j,k].value():\n",
    "                    d[i,j] = str(k)\n",
    "    tk_pp(d)\n",
    "else:\n",
    "    print(\"UNSAT!\")"
   ]
  },
  {
   "cell_type": "markdown",
   "metadata": {
    "ein.tags": "worksheet-0",
    "slideshow": {
     "slide_type": "-"
    }
   },
   "source": [
    "## Experimentations\n",
    "\n",
    "Comparer les temps de calcul des formules représentant les contraintes du jeu et du calcul de la solution. Pour ce faire, on pourra ajouter la directive `%%timeit` au début des blocs correspondants. Que remarquez-vous ?"
   ]
  },
  {
   "cell_type": "markdown",
   "metadata": {
    "ein.tags": "worksheet-0",
    "slideshow": {
     "slide_type": "-"
    }
   },
   "source": [
    "Réponse :"
   ]
  },
  {
   "cell_type": "markdown",
   "metadata": {
    "ein.tags": "worksheet-0",
    "slideshow": {
     "slide_type": "-"
    }
   },
   "source": [
    "## Énumeration de solutions\n",
    "\n",
    "On cherche maintenant à énumerer toutes les solutions d'une grille. Pour cela, réfléchir à une façon simple d'empêcher le solveur de retrouver un modèle qu'il vient de trouver. On fera attention aux cellules qui sont affectées dans la grille initiale. On pourra partir de la grille spécifiée dans le fichier `easy.csv`. Attention, il faut réinitialiser complétement le solveur (cf. première ligne du bloc suivant)."
   ]
  },
  {
   "cell_type": "code",
   "execution_count": 15,
   "metadata": {
    "autoscroll": false,
    "collapsed": false,
    "ein.tags": "worksheet-0",
    "slideshow": {
     "slide_type": "-"
    }
   },
   "outputs": [
    {
     "data": {
      "text/plain": [
       "<monosat.monosat_c.Solver at 0x7fd7266c4470>"
      ]
     },
     "execution_count": 15,
     "metadata": {},
     "output_type": "execute_result"
    }
   ],
   "source": [
    "Monosat().newSolver()\n",
    "\n",
    "# TODO: créer les variables et les contraintes dans le nouveau solver\n",
    "\n",
    "# TODO: énumérer toutes les solutions d'une grille"
   ]
  }
 ],
 "metadata": {
  "kernelspec": {
   "display_name": "Python 3",
   "language": "python",
   "name": "python3"
  },
  "language_info": {
   "codemirror_mode": {
    "name": "ipython",
    "version": 3
   },
   "file_extension": ".py",
   "mimetype": "text/x-python",
   "name": "python",
   "nbconvert_exporter": "python",
   "pygments_lexer": "ipython3",
   "version": "3.4.2"
  },
  "name": "python-intro.ipynb_merged"
 },
 "nbformat": 4,
 "nbformat_minor": 1
}
